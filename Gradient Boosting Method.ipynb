{
 "cells": [
  {
   "cell_type": "code",
   "execution_count": 1,
   "metadata": {},
   "outputs": [],
   "source": [
    "import numpy as np\n",
    "import pandas as pd"
   ]
  },
  {
   "cell_type": "code",
   "execution_count": 2,
   "metadata": {},
   "outputs": [],
   "source": [
    "from sklearn.ensemble import GradientBoostingClassifier\n",
    "from sklearn.model_selection import cross_val_score\n",
    "from sklearn.model_selection import GridSearchCV\n",
    "from sklearn import metrics"
   ]
  },
  {
   "cell_type": "code",
   "execution_count": 5,
   "metadata": {},
   "outputs": [],
   "source": [
    "import matplotlib.pylab as plt\n",
    "%matplotlib inline\n",
    "from matplotlib.pylab import rcParams\n",
    "rcParams['figure.figsize']= 12,8"
   ]
  },
  {
   "cell_type": "code",
   "execution_count": 3,
   "metadata": {},
   "outputs": [
    {
     "data": {
      "text/plain": [
       "'C:\\\\Users\\\\ancha\\\\Python Scripts\\\\Machine Learning'"
      ]
     },
     "execution_count": 3,
     "metadata": {},
     "output_type": "execute_result"
    }
   ],
   "source": [
    "import os\n",
    "os.getcwd()"
   ]
  },
  {
   "cell_type": "code",
   "execution_count": 4,
   "metadata": {},
   "outputs": [],
   "source": [
    "os.chdir('C:\\\\Praxis\\\\Term-2\\\\AML\\\\gradient boosting')"
   ]
  },
  {
   "cell_type": "markdown",
   "metadata": {},
   "source": [
    "### Fitting a GBM Classifier"
   ]
  },
  {
   "cell_type": "code",
   "execution_count": 6,
   "metadata": {},
   "outputs": [],
   "source": [
    "train = pd.read_csv(\"train_modified.csv\") #data cleaning and one hot encoding already done(Sir gave this data)\n",
    "IDcol = 'ID'\n",
    "target = 'Disbursed'"
   ]
  },
  {
   "cell_type": "code",
   "execution_count": 8,
   "metadata": {},
   "outputs": [],
   "source": [
    "X = train.drop([target, IDcol], axis = 1) #Assuming we already have a train test split\n",
    "y = train.Disbursed"
   ]
  },
  {
   "cell_type": "code",
   "execution_count": 11,
   "metadata": {},
   "outputs": [
    {
     "data": {
      "text/plain": [
       "GradientBoostingClassifier(random_state=10)"
      ]
     },
     "execution_count": 11,
     "metadata": {},
     "output_type": "execute_result"
    }
   ],
   "source": [
    "#Baseline Model, random_state is not mandatory\n",
    "gbm0 = GradientBoostingClassifier(random_state = 10)\n",
    "gbm0.fit(X,y)"
   ]
  },
  {
   "cell_type": "code",
   "execution_count": 12,
   "metadata": {},
   "outputs": [],
   "source": [
    "#Prediction\n",
    "pred = gbm0.predict(X)"
   ]
  },
  {
   "cell_type": "code",
   "execution_count": 13,
   "metadata": {},
   "outputs": [
    {
     "data": {
      "text/plain": [
       "0.9856010112617789"
      ]
     },
     "execution_count": 13,
     "metadata": {},
     "output_type": "execute_result"
    }
   ],
   "source": [
    "#Training Accuracy\n",
    "metrics.accuracy_score(y, pred)"
   ]
  },
  {
   "cell_type": "code",
   "execution_count": 14,
   "metadata": {},
   "outputs": [
    {
     "data": {
      "text/plain": [
       "0.8622636776374524"
      ]
     },
     "execution_count": 14,
     "metadata": {},
     "output_type": "execute_result"
    }
   ],
   "source": [
    "#AUC\n",
    "probs = gbm0.predict_proba(X)[:,1]\n",
    "metrics.roc_auc_score(y, probs)"
   ]
  },
  {
   "cell_type": "code",
   "execution_count": 15,
   "metadata": {},
   "outputs": [
    {
     "data": {
      "text/plain": [
       "array([0.82003352, 0.82687633, 0.83819931, 0.81106632, 0.8434035 ,\n",
       "       0.84430798, 0.86006611, 0.82849904, 0.83114968, 0.83455979])"
      ]
     },
     "execution_count": 15,
     "metadata": {},
     "output_type": "execute_result"
    }
   ],
   "source": [
    "#perform cross validation, with folds = 10\n",
    "cv_score = cross_val_score(gbm0, X, y, cv = 10, scoring = 'roc_auc' )\n",
    "cv_score"
   ]
  },
  {
   "cell_type": "code",
   "execution_count": 16,
   "metadata": {},
   "outputs": [
    {
     "name": "stdout",
     "output_type": "stream",
     "text": [
      "CV Score: Mean - 0.8338162 | Std - 0.01304561 | Min - 0.8110663 | Max - 0.8600661\n"
     ]
    }
   ],
   "source": [
    "#printing our cv score summary\n",
    "print(\"CV Score: Mean - %.7g | Std - %.7g | Min - %.7g | Max - %.7g\" \n",
    "      % (np.mean(cv_score), np.std(cv_score),np.min(cv_score),np.max(cv_score)))"
   ]
  },
  {
   "cell_type": "code",
   "execution_count": 17,
   "metadata": {},
   "outputs": [
    {
     "data": {
      "text/plain": [
       "array([0.82229288, 0.81954512, 0.84002108, 0.84384238, 0.8337214 ])"
      ]
     },
     "execution_count": 17,
     "metadata": {},
     "output_type": "execute_result"
    }
   ],
   "source": [
    "#performing cross validation with 5 folds\n",
    "cv_score = cross_val_score(gbm0, X, y, cv = 5, scoring = 'roc_auc' )\n",
    "cv_score"
   ]
  },
  {
   "cell_type": "code",
   "execution_count": 18,
   "metadata": {},
   "outputs": [
    {
     "name": "stdout",
     "output_type": "stream",
     "text": [
      "CV Score: Mean - 0.8318846 | Std - 0.009558541 | Min - 0.8195451 | Max - 0.8438424\n"
     ]
    }
   ],
   "source": [
    "#printing cv score summary \n",
    "print(\"CV Score: Mean - %.7g | Std - %.7g | Min - %.7g | Max - %.7g\" \n",
    "      % (np.mean(cv_score), np.std(cv_score),np.min(cv_score),np.max(cv_score)))"
   ]
  },
  {
   "cell_type": "markdown",
   "metadata": {},
   "source": [
    "### Defining a easy to use function for the above steps"
   ]
  },
  {
   "cell_type": "code",
   "execution_count": 20,
   "metadata": {},
   "outputs": [],
   "source": [
    "def modelfit(alg, dtrain, predictors, performCV=True, printFeatureImportance=True, cv_folds=5):\n",
    "    \n",
    "    #Fit the algorithm\n",
    "    alg.fit(dtrain[predictors], dtrain['Disbursed']) #dtrain[predictors] = X, dtrain['Disbursed'] = y\n",
    "    \n",
    "    #Predict training set:\n",
    "    dtrain_predictions = alg.predict(dtrain[predictors])  #prediction\n",
    "    dtrain_predprob = alg.predict_proba(dtrain[predictors])[:,1] #AUC\n",
    "    \n",
    "    #Perform cross-validation:\n",
    "    if performCV:\n",
    "        cv_score = cross_val_score(alg, dtrain[predictors], dtrain['Disbursed'],cv=cv_folds,\n",
    "                                scoring='roc_auc')\n",
    "    #Print model report\n",
    "    print(\"\\nModel Report\")\n",
    "    print(\"Accuracy : %.4g\" % metrics.accuracy_score(dtrain['Disbursed'], dtrain_predictions))\n",
    "    print(\"AUC Score (Train): %f\" % metrics.roc_auc_score(dtrain['Disbursed'], dtrain_predprob))\n",
    "    \n",
    "    if performCV: #if performCV = False, this function will not work\n",
    "        print(\"CV score : Mean - %.7g | Std - %.7g | Min - %.7g | Max - %.7g\"\n",
    "      % (np.mean(cv_score),np.std(cv_score),np.min(cv_score),np.max(cv_score)))\n",
    "    \n",
    "    #Print Feature Importance, if false this function will not work\n",
    "    if printFeatureImportance:\n",
    "        feat_imp = pd.Series(alg.feature_importances_, predictors).sort_values(ascending =False)\n",
    "        feat_imp.plot(kind='bar', title='Feature Importances')\n",
    "        plt.ylabel('Feature Importance Score')"
   ]
  },
  {
   "cell_type": "code",
   "execution_count": 21,
   "metadata": {},
   "outputs": [
    {
     "name": "stdout",
     "output_type": "stream",
     "text": [
      "\n",
      "Model Report\n",
      "Accuracy : 0.9856\n",
      "AUC Score (Train): 0.862264\n",
      "CV score : Mean - 0.8318999 | Std - 0.009537301 | Min - 0.8195451 | Max - 0.8438424\n"
     ]
    },
    {
     "data": {
      "image/png": "[encoded data removed]",
      "text/plain": [
       "<Figure size 864x576 with 1 Axes>"
      ]
     },
     "metadata": {
      "needs_background": "light"
     },
     "output_type": "display_data"
    }
   ],
   "source": [
    "#Let's test our function\n",
    "predictors = [x for x in train.columns if x not in [target, IDcol]]\n",
    "gbm0 = GradientBoostingClassifier()\n",
    "modelfit(gbm0, train, predictors)"
   ]
  },
  {
   "cell_type": "markdown",
   "metadata": {},
   "source": [
    "### Hyperparameter Tuning, step 2 of Gradient boosting classifier"
   ]
  },
  {
   "cell_type": "code",
   "execution_count": 22,
   "metadata": {},
   "outputs": [
    {
     "data": {
      "text/plain": [
       "GridSearchCV(cv=5,\n",
       "             estimator=GradientBoostingClassifier(max_depth=8,\n",
       "                                                  max_features='sqrt',\n",
       "                                                  min_samples_leaf=50,\n",
       "                                                  min_samples_split=500,\n",
       "                                                  subsample=0.8),\n",
       "             n_jobs=4, param_grid={'n_estimators': range(20, 81, 10)},\n",
       "             scoring='roc_auc')"
      ]
     },
     "execution_count": 22,
     "metadata": {},
     "output_type": "execute_result"
    }
   ],
   "source": [
    "#Choose all predictors except target and IDcols, subsampling means you need to do select this proportion of your sample data  \n",
    "#before you fit the model at every round. \n",
    "predictors = [x for x in train.columns if x not in [target, IDcol]]\n",
    "param_test1 = {'n_estimators': range(20,81,10)} #n_estimators is for number of times i want my for loop to run\n",
    "\n",
    "gsearch1 = GridSearchCV(estimator = GradientBoostingClassifier(learning_rate = 0.1, #alpha\n",
    "                                                               min_samples_split=500,\n",
    "                                                               min_samples_leaf=50,\n",
    "                                                               max_depth=8,\n",
    "                                                               max_features='sqrt',\n",
    "                                                               subsample = 0.8),\n",
    "                        param_grid = param_test1, scoring ='roc_auc',n_jobs=4, cv=5)\n",
    "\n",
    "gsearch1.fit(train[predictors],train[target])"
   ]
  },
  {
   "cell_type": "code",
   "execution_count": 29,
   "metadata": {},
   "outputs": [
    {
     "name": "stdout",
     "output_type": "stream",
     "text": [
      "{'n_estimators': 50} 0.8390356608955226\n"
     ]
    }
   ],
   "source": [
    "print(gsearch1.best_params_ , gsearch1.best_score_)"
   ]
  },
  {
   "cell_type": "code",
   "execution_count": 25,
   "metadata": {},
   "outputs": [
    {
     "data": {
      "text/html": [
       "<div>\n",
       "<style scoped>\n",
       "    .dataframe tbody tr th:only-of-type {\n",
       "        vertical-align: middle;\n",
       "    }\n",
       "\n",
       "    .dataframe tbody tr th {\n",
       "        vertical-align: top;\n",
       "    }\n",
       "\n",
       "    .dataframe thead th {\n",
       "        text-align: right;\n",
       "    }\n",
       "</style>\n",
       "<table border=\"1\" class=\"dataframe\">\n",
       "  <thead>\n",
       "    <tr style=\"text-align: right;\">\n",
       "      <th></th>\n",
       "      <th>n_estimator</th>\n",
       "      <th>mean_test_score</th>\n",
       "    </tr>\n",
       "  </thead>\n",
       "  <tbody>\n",
       "    <tr>\n",
       "      <th>0</th>\n",
       "      <td>{'n_estimators': 20}</td>\n",
       "      <td>0.834736</td>\n",
       "    </tr>\n",
       "    <tr>\n",
       "      <th>1</th>\n",
       "      <td>{'n_estimators': 30}</td>\n",
       "      <td>0.835877</td>\n",
       "    </tr>\n",
       "    <tr>\n",
       "      <th>2</th>\n",
       "      <td>{'n_estimators': 40}</td>\n",
       "      <td>0.835381</td>\n",
       "    </tr>\n",
       "    <tr>\n",
       "      <th>3</th>\n",
       "      <td>{'n_estimators': 50}</td>\n",
       "      <td>0.839036</td>\n",
       "    </tr>\n",
       "    <tr>\n",
       "      <th>4</th>\n",
       "      <td>{'n_estimators': 60}</td>\n",
       "      <td>0.837220</td>\n",
       "    </tr>\n",
       "    <tr>\n",
       "      <th>5</th>\n",
       "      <td>{'n_estimators': 70}</td>\n",
       "      <td>0.837337</td>\n",
       "    </tr>\n",
       "    <tr>\n",
       "      <th>6</th>\n",
       "      <td>{'n_estimators': 80}</td>\n",
       "      <td>0.838556</td>\n",
       "    </tr>\n",
       "  </tbody>\n",
       "</table>\n",
       "</div>"
      ],
      "text/plain": [
       "            n_estimator  mean_test_score\n",
       "0  {'n_estimators': 20}         0.834736\n",
       "1  {'n_estimators': 30}         0.835877\n",
       "2  {'n_estimators': 40}         0.835381\n",
       "3  {'n_estimators': 50}         0.839036\n",
       "4  {'n_estimators': 60}         0.837220\n",
       "5  {'n_estimators': 70}         0.837337\n",
       "6  {'n_estimators': 80}         0.838556"
      ]
     },
     "execution_count": 25,
     "metadata": {},
     "output_type": "execute_result"
    }
   ],
   "source": [
    "pd.DataFrame({'n_estimator': gsearch1.cv_results_['params'],\n",
    "             'mean_test_score': gsearch1.cv_results_['mean_test_score']})"
   ]
  },
  {
   "cell_type": "code",
   "execution_count": 27,
   "metadata": {},
   "outputs": [
    {
     "data": {
      "text/plain": [
       "GridSearchCV(cv=5,\n",
       "             estimator=GradientBoostingClassifier(max_features='sqrt',\n",
       "                                                  n_estimators=50,\n",
       "                                                  subsample=0.8),\n",
       "             n_jobs=4,\n",
       "             param_grid={'max_depth': range(5, 16, 2),\n",
       "                         'min_samples_split': range(200, 1001, 150)},\n",
       "             scoring='roc_auc')"
      ]
     },
     "execution_count": 27,
     "metadata": {},
     "output_type": "execute_result"
    }
   ],
   "source": [
    "param_test2 = {'max_depth': range(5,16,2), 'min_samples_split': range(200,1001,150)} \n",
    "\n",
    "gsearch2 = GridSearchCV(estimator = GradientBoostingClassifier(learning_rate = 0.1,\n",
    "                                                               n_estimators = 50,\n",
    "                                                               max_features='sqrt',\n",
    "                                                               subsample = 0.8),\n",
    "                        param_grid = param_test2, scoring ='roc_auc',n_jobs=4, cv=5)\n",
    "\n",
    "gsearch2.fit(train[predictors],train[target])"
   ]
  },
  {
   "cell_type": "code",
   "execution_count": 28,
   "metadata": {},
   "outputs": [
    {
     "name": "stdout",
     "output_type": "stream",
     "text": [
      "{'max_depth': 7, 'min_samples_split': 950} 0.8393514911852954\n"
     ]
    }
   ],
   "source": [
    "print(gsearch2.best_params_, gsearch2.best_score_)"
   ]
  },
  {
   "cell_type": "code",
   "execution_count": 30,
   "metadata": {},
   "outputs": [
    {
     "data": {
      "text/html": [
       "<div>\n",
       "<style scoped>\n",
       "    .dataframe tbody tr th:only-of-type {\n",
       "        vertical-align: middle;\n",
       "    }\n",
       "\n",
       "    .dataframe tbody tr th {\n",
       "        vertical-align: top;\n",
       "    }\n",
       "\n",
       "    .dataframe thead th {\n",
       "        text-align: right;\n",
       "    }\n",
       "</style>\n",
       "<table border=\"1\" class=\"dataframe\">\n",
       "  <thead>\n",
       "    <tr style=\"text-align: right;\">\n",
       "      <th></th>\n",
       "      <th>parameters</th>\n",
       "      <th>mean_test_score</th>\n",
       "      <th>std_test_score</th>\n",
       "    </tr>\n",
       "  </thead>\n",
       "  <tbody>\n",
       "    <tr>\n",
       "      <th>0</th>\n",
       "      <td>{'max_depth': 5, 'min_samples_split': 200}</td>\n",
       "      <td>0.832641</td>\n",
       "      <td>0.832641</td>\n",
       "    </tr>\n",
       "    <tr>\n",
       "      <th>1</th>\n",
       "      <td>{'max_depth': 5, 'min_samples_split': 350}</td>\n",
       "      <td>0.832168</td>\n",
       "      <td>0.832168</td>\n",
       "    </tr>\n",
       "    <tr>\n",
       "      <th>2</th>\n",
       "      <td>{'max_depth': 5, 'min_samples_split': 500}</td>\n",
       "      <td>0.832732</td>\n",
       "      <td>0.832732</td>\n",
       "    </tr>\n",
       "    <tr>\n",
       "      <th>3</th>\n",
       "      <td>{'max_depth': 5, 'min_samples_split': 650}</td>\n",
       "      <td>0.832823</td>\n",
       "      <td>0.832823</td>\n",
       "    </tr>\n",
       "    <tr>\n",
       "      <th>4</th>\n",
       "      <td>{'max_depth': 5, 'min_samples_split': 800}</td>\n",
       "      <td>0.833195</td>\n",
       "      <td>0.833195</td>\n",
       "    </tr>\n",
       "    <tr>\n",
       "      <th>5</th>\n",
       "      <td>{'max_depth': 5, 'min_samples_split': 950}</td>\n",
       "      <td>0.832205</td>\n",
       "      <td>0.832205</td>\n",
       "    </tr>\n",
       "    <tr>\n",
       "      <th>6</th>\n",
       "      <td>{'max_depth': 7, 'min_samples_split': 200}</td>\n",
       "      <td>0.836673</td>\n",
       "      <td>0.836673</td>\n",
       "    </tr>\n",
       "    <tr>\n",
       "      <th>7</th>\n",
       "      <td>{'max_depth': 7, 'min_samples_split': 350}</td>\n",
       "      <td>0.834578</td>\n",
       "      <td>0.834578</td>\n",
       "    </tr>\n",
       "    <tr>\n",
       "      <th>8</th>\n",
       "      <td>{'max_depth': 7, 'min_samples_split': 500}</td>\n",
       "      <td>0.834126</td>\n",
       "      <td>0.834126</td>\n",
       "    </tr>\n",
       "    <tr>\n",
       "      <th>9</th>\n",
       "      <td>{'max_depth': 7, 'min_samples_split': 650}</td>\n",
       "      <td>0.837574</td>\n",
       "      <td>0.837574</td>\n",
       "    </tr>\n",
       "    <tr>\n",
       "      <th>10</th>\n",
       "      <td>{'max_depth': 7, 'min_samples_split': 800}</td>\n",
       "      <td>0.836038</td>\n",
       "      <td>0.836038</td>\n",
       "    </tr>\n",
       "    <tr>\n",
       "      <th>11</th>\n",
       "      <td>{'max_depth': 7, 'min_samples_split': 950}</td>\n",
       "      <td>0.839351</td>\n",
       "      <td>0.839351</td>\n",
       "    </tr>\n",
       "    <tr>\n",
       "      <th>12</th>\n",
       "      <td>{'max_depth': 9, 'min_samples_split': 200}</td>\n",
       "      <td>0.835030</td>\n",
       "      <td>0.835030</td>\n",
       "    </tr>\n",
       "    <tr>\n",
       "      <th>13</th>\n",
       "      <td>{'max_depth': 9, 'min_samples_split': 350}</td>\n",
       "      <td>0.834923</td>\n",
       "      <td>0.834923</td>\n",
       "    </tr>\n",
       "    <tr>\n",
       "      <th>14</th>\n",
       "      <td>{'max_depth': 9, 'min_samples_split': 500}</td>\n",
       "      <td>0.835627</td>\n",
       "      <td>0.835627</td>\n",
       "    </tr>\n",
       "    <tr>\n",
       "      <th>15</th>\n",
       "      <td>{'max_depth': 9, 'min_samples_split': 650}</td>\n",
       "      <td>0.836752</td>\n",
       "      <td>0.836752</td>\n",
       "    </tr>\n",
       "    <tr>\n",
       "      <th>16</th>\n",
       "      <td>{'max_depth': 9, 'min_samples_split': 800}</td>\n",
       "      <td>0.837359</td>\n",
       "      <td>0.837359</td>\n",
       "    </tr>\n",
       "    <tr>\n",
       "      <th>17</th>\n",
       "      <td>{'max_depth': 9, 'min_samples_split': 950}</td>\n",
       "      <td>0.836760</td>\n",
       "      <td>0.836760</td>\n",
       "    </tr>\n",
       "    <tr>\n",
       "      <th>18</th>\n",
       "      <td>{'max_depth': 11, 'min_samples_split': 200}</td>\n",
       "      <td>0.829433</td>\n",
       "      <td>0.829433</td>\n",
       "    </tr>\n",
       "    <tr>\n",
       "      <th>19</th>\n",
       "      <td>{'max_depth': 11, 'min_samples_split': 350}</td>\n",
       "      <td>0.830334</td>\n",
       "      <td>0.830334</td>\n",
       "    </tr>\n",
       "    <tr>\n",
       "      <th>20</th>\n",
       "      <td>{'max_depth': 11, 'min_samples_split': 500}</td>\n",
       "      <td>0.832457</td>\n",
       "      <td>0.832457</td>\n",
       "    </tr>\n",
       "    <tr>\n",
       "      <th>21</th>\n",
       "      <td>{'max_depth': 11, 'min_samples_split': 650}</td>\n",
       "      <td>0.834302</td>\n",
       "      <td>0.834302</td>\n",
       "    </tr>\n",
       "    <tr>\n",
       "      <th>22</th>\n",
       "      <td>{'max_depth': 11, 'min_samples_split': 800}</td>\n",
       "      <td>0.833983</td>\n",
       "      <td>0.833983</td>\n",
       "    </tr>\n",
       "    <tr>\n",
       "      <th>23</th>\n",
       "      <td>{'max_depth': 11, 'min_samples_split': 950}</td>\n",
       "      <td>0.836379</td>\n",
       "      <td>0.836379</td>\n",
       "    </tr>\n",
       "    <tr>\n",
       "      <th>24</th>\n",
       "      <td>{'max_depth': 13, 'min_samples_split': 200}</td>\n",
       "      <td>0.828607</td>\n",
       "      <td>0.828607</td>\n",
       "    </tr>\n",
       "    <tr>\n",
       "      <th>25</th>\n",
       "      <td>{'max_depth': 13, 'min_samples_split': 350}</td>\n",
       "      <td>0.827547</td>\n",
       "      <td>0.827547</td>\n",
       "    </tr>\n",
       "    <tr>\n",
       "      <th>26</th>\n",
       "      <td>{'max_depth': 13, 'min_samples_split': 500}</td>\n",
       "      <td>0.831950</td>\n",
       "      <td>0.831950</td>\n",
       "    </tr>\n",
       "    <tr>\n",
       "      <th>27</th>\n",
       "      <td>{'max_depth': 13, 'min_samples_split': 650}</td>\n",
       "      <td>0.832598</td>\n",
       "      <td>0.832598</td>\n",
       "    </tr>\n",
       "    <tr>\n",
       "      <th>28</th>\n",
       "      <td>{'max_depth': 13, 'min_samples_split': 800}</td>\n",
       "      <td>0.832560</td>\n",
       "      <td>0.832560</td>\n",
       "    </tr>\n",
       "    <tr>\n",
       "      <th>29</th>\n",
       "      <td>{'max_depth': 13, 'min_samples_split': 950}</td>\n",
       "      <td>0.831318</td>\n",
       "      <td>0.831318</td>\n",
       "    </tr>\n",
       "    <tr>\n",
       "      <th>30</th>\n",
       "      <td>{'max_depth': 15, 'min_samples_split': 200}</td>\n",
       "      <td>0.816643</td>\n",
       "      <td>0.816643</td>\n",
       "    </tr>\n",
       "    <tr>\n",
       "      <th>31</th>\n",
       "      <td>{'max_depth': 15, 'min_samples_split': 350}</td>\n",
       "      <td>0.826384</td>\n",
       "      <td>0.826384</td>\n",
       "    </tr>\n",
       "    <tr>\n",
       "      <th>32</th>\n",
       "      <td>{'max_depth': 15, 'min_samples_split': 500}</td>\n",
       "      <td>0.829220</td>\n",
       "      <td>0.829220</td>\n",
       "    </tr>\n",
       "    <tr>\n",
       "      <th>33</th>\n",
       "      <td>{'max_depth': 15, 'min_samples_split': 650}</td>\n",
       "      <td>0.830688</td>\n",
       "      <td>0.830688</td>\n",
       "    </tr>\n",
       "    <tr>\n",
       "      <th>34</th>\n",
       "      <td>{'max_depth': 15, 'min_samples_split': 800}</td>\n",
       "      <td>0.832123</td>\n",
       "      <td>0.832123</td>\n",
       "    </tr>\n",
       "    <tr>\n",
       "      <th>35</th>\n",
       "      <td>{'max_depth': 15, 'min_samples_split': 950}</td>\n",
       "      <td>0.834647</td>\n",
       "      <td>0.834647</td>\n",
       "    </tr>\n",
       "  </tbody>\n",
       "</table>\n",
       "</div>"
      ],
      "text/plain": [
       "                                     parameters  mean_test_score  \\\n",
       "0    {'max_depth': 5, 'min_samples_split': 200}         0.832641   \n",
       "1    {'max_depth': 5, 'min_samples_split': 350}         0.832168   \n",
       "2    {'max_depth': 5, 'min_samples_split': 500}         0.832732   \n",
       "3    {'max_depth': 5, 'min_samples_split': 650}         0.832823   \n",
       "4    {'max_depth': 5, 'min_samples_split': 800}         0.833195   \n",
       "5    {'max_depth': 5, 'min_samples_split': 950}         0.832205   \n",
       "6    {'max_depth': 7, 'min_samples_split': 200}         0.836673   \n",
       "7    {'max_depth': 7, 'min_samples_split': 350}         0.834578   \n",
       "8    {'max_depth': 7, 'min_samples_split': 500}         0.834126   \n",
       "9    {'max_depth': 7, 'min_samples_split': 650}         0.837574   \n",
       "10   {'max_depth': 7, 'min_samples_split': 800}         0.836038   \n",
       "11   {'max_depth': 7, 'min_samples_split': 950}         0.839351   \n",
       "12   {'max_depth': 9, 'min_samples_split': 200}         0.835030   \n",
       "13   {'max_depth': 9, 'min_samples_split': 350}         0.834923   \n",
       "14   {'max_depth': 9, 'min_samples_split': 500}         0.835627   \n",
       "15   {'max_depth': 9, 'min_samples_split': 650}         0.836752   \n",
       "16   {'max_depth': 9, 'min_samples_split': 800}         0.837359   \n",
       "17   {'max_depth': 9, 'min_samples_split': 950}         0.836760   \n",
       "18  {'max_depth': 11, 'min_samples_split': 200}         0.829433   \n",
       "19  {'max_depth': 11, 'min_samples_split': 350}         0.830334   \n",
       "20  {'max_depth': 11, 'min_samples_split': 500}         0.832457   \n",
       "21  {'max_depth': 11, 'min_samples_split': 650}         0.834302   \n",
       "22  {'max_depth': 11, 'min_samples_split': 800}         0.833983   \n",
       "23  {'max_depth': 11, 'min_samples_split': 950}         0.836379   \n",
       "24  {'max_depth': 13, 'min_samples_split': 200}         0.828607   \n",
       "25  {'max_depth': 13, 'min_samples_split': 350}         0.827547   \n",
       "26  {'max_depth': 13, 'min_samples_split': 500}         0.831950   \n",
       "27  {'max_depth': 13, 'min_samples_split': 650}         0.832598   \n",
       "28  {'max_depth': 13, 'min_samples_split': 800}         0.832560   \n",
       "29  {'max_depth': 13, 'min_samples_split': 950}         0.831318   \n",
       "30  {'max_depth': 15, 'min_samples_split': 200}         0.816643   \n",
       "31  {'max_depth': 15, 'min_samples_split': 350}         0.826384   \n",
       "32  {'max_depth': 15, 'min_samples_split': 500}         0.829220   \n",
       "33  {'max_depth': 15, 'min_samples_split': 650}         0.830688   \n",
       "34  {'max_depth': 15, 'min_samples_split': 800}         0.832123   \n",
       "35  {'max_depth': 15, 'min_samples_split': 950}         0.834647   \n",
       "\n",
       "    std_test_score  \n",
       "0         0.832641  \n",
       "1         0.832168  \n",
       "2         0.832732  \n",
       "3         0.832823  \n",
       "4         0.833195  \n",
       "5         0.832205  \n",
       "6         0.836673  \n",
       "7         0.834578  \n",
       "8         0.834126  \n",
       "9         0.837574  \n",
       "10        0.836038  \n",
       "11        0.839351  \n",
       "12        0.835030  \n",
       "13        0.834923  \n",
       "14        0.835627  \n",
       "15        0.836752  \n",
       "16        0.837359  \n",
       "17        0.836760  \n",
       "18        0.829433  \n",
       "19        0.830334  \n",
       "20        0.832457  \n",
       "21        0.834302  \n",
       "22        0.833983  \n",
       "23        0.836379  \n",
       "24        0.828607  \n",
       "25        0.827547  \n",
       "26        0.831950  \n",
       "27        0.832598  \n",
       "28        0.832560  \n",
       "29        0.831318  \n",
       "30        0.816643  \n",
       "31        0.826384  \n",
       "32        0.829220  \n",
       "33        0.830688  \n",
       "34        0.832123  \n",
       "35        0.834647  "
      ]
     },
     "execution_count": 30,
     "metadata": {},
     "output_type": "execute_result"
    }
   ],
   "source": [
    "pd.DataFrame({'parameters': gsearch2.cv_results_['params'],\n",
    "              'mean_test_score': gsearch2.cv_results_['mean_test_score'],\n",
    "             'std_test_score':gsearch2.cv_results_['mean_test_score']})"
   ]
  },
  {
   "cell_type": "code",
   "execution_count": 31,
   "metadata": {},
   "outputs": [
    {
     "data": {
      "text/plain": [
       "GridSearchCV(cv=5,\n",
       "             estimator=GradientBoostingClassifier(max_depth=7,\n",
       "                                                  max_features='sqrt',\n",
       "                                                  n_estimators=50,\n",
       "                                                  subsample=0.8),\n",
       "             n_jobs=4,\n",
       "             param_grid={'min_samples_leaf': range(30, 71, 10),\n",
       "                         'min_samples_split': range(1000, 2100, 150)},\n",
       "             scoring='roc_auc')"
      ]
     },
     "execution_count": 31,
     "metadata": {},
     "output_type": "execute_result"
    }
   ],
   "source": [
    "param_test3 = {'min_samples_split': range(1000,2100,150), 'min_samples_leaf': range(30,71,10)} \n",
    "\n",
    "gsearch3 = GridSearchCV(estimator = GradientBoostingClassifier(learning_rate = 0.1,\n",
    "                                                               n_estimators = 50,  #Fixed (we got this above)\n",
    "                                                               max_depth = 7,      #Fixed (we got this above)\n",
    "                                                               max_features='sqrt',\n",
    "                                                               subsample = 0.8),\n",
    "                        param_grid = param_test3, scoring ='roc_auc',n_jobs=4, cv=5)\n",
    "\n",
    "gsearch3.fit(train[predictors],train[target])"
   ]
  },
  {
   "cell_type": "code",
   "execution_count": 32,
   "metadata": {},
   "outputs": [
    {
     "name": "stdout",
     "output_type": "stream",
     "text": [
      "{'min_samples_leaf': 60, 'min_samples_split': 1000} 0.8376483501193821\n"
     ]
    }
   ],
   "source": [
    "print(gsearch3.best_params_, gsearch3.best_score_)"
   ]
  },
  {
   "cell_type": "code",
   "execution_count": null,
   "metadata": {},
   "outputs": [],
   "source": [
    "# pd.DataFrame({'parameters': gsearch3.cv_results_['params'],\n",
    "#               'mean_test_score': gsearch3.cv_results_['mean_test_score'],\n",
    "#              'std_test_score':gsearch3.cv_results_['mean_test_score']})"
   ]
  },
  {
   "cell_type": "code",
   "execution_count": 33,
   "metadata": {},
   "outputs": [
    {
     "name": "stdout",
     "output_type": "stream",
     "text": [
      "\n",
      "Model Report\n",
      "Accuracy : 0.9854\n",
      "AUC Score (Train): 0.877295\n",
      "CV score : Mean - 0.8389529 | Std - 0.01239619 | Min - 0.8201839 | Max - 0.854666\n"
     ]
    },
    {
     "data": {
      "image/png": "[encoded data removed]",
      "text/plain": [
       "<Figure size 864x576 with 1 Axes>"
      ]
     },
     "metadata": {
      "needs_background": "light"
     },
     "output_type": "display_data"
    }
   ],
   "source": [
    "modelfit(gsearch3.best_estimator_,train,predictors)"
   ]
  },
  {
   "cell_type": "code",
   "execution_count": 34,
   "metadata": {},
   "outputs": [
    {
     "data": {
      "text/plain": [
       "GridSearchCV(cv=5,\n",
       "             estimator=GradientBoostingClassifier(max_depth=7,\n",
       "                                                  min_samples_leaf=60,\n",
       "                                                  min_samples_split=1000,\n",
       "                                                  n_estimators=50,\n",
       "                                                  subsample=0.8),\n",
       "             n_jobs=4, param_grid={'max_features': range(7, 30, 3)},\n",
       "             scoring='roc_auc')"
      ]
     },
     "execution_count": 34,
     "metadata": {},
     "output_type": "execute_result"
    }
   ],
   "source": [
    "param_test4 = {'max_features': range(7,30,3)} \n",
    "\n",
    "gsearch4 = GridSearchCV(estimator = GradientBoostingClassifier(learning_rate = 0.1,\n",
    "                                                               n_estimators = 50,          #Fixed\n",
    "                                                               min_samples_split=1000,     #Fixed\n",
    "                                                               min_samples_leaf=60,        #Fixed\n",
    "                                                               max_depth=7,                #Fixed\n",
    "                                                               subsample = 0.8),\n",
    "                        param_grid = param_test4, scoring ='roc_auc',n_jobs=4, cv=5)\n",
    "\n",
    "gsearch4.fit(train[predictors],train[target])"
   ]
  },
  {
   "cell_type": "code",
   "execution_count": 35,
   "metadata": {},
   "outputs": [
    {
     "name": "stdout",
     "output_type": "stream",
     "text": [
      "{'max_features': 7} 0.837967209376032\n"
     ]
    }
   ],
   "source": [
    "print(gsearch4.best_params_, gsearch4.best_score_)"
   ]
  },
  {
   "cell_type": "code",
   "execution_count": null,
   "metadata": {},
   "outputs": [],
   "source": [
    "#modelfit(gsearch4.best_estimator_,train,predictors)"
   ]
  },
  {
   "cell_type": "code",
   "execution_count": 37,
   "metadata": {},
   "outputs": [
    {
     "data": {
      "text/plain": [
       "GridSearchCV(cv=5,\n",
       "             estimator=GradientBoostingClassifier(max_depth=7, max_features=7,\n",
       "                                                  min_samples_leaf=60,\n",
       "                                                  min_samples_split=1000,\n",
       "                                                  n_estimators=50,\n",
       "                                                  subsample=0.8),\n",
       "             n_jobs=4,\n",
       "             param_grid={'subsample': [0.6, 0.7, 0.75, 0.8, 0.85, 0.9, 1.0]},\n",
       "             scoring='roc_auc')"
      ]
     },
     "execution_count": 37,
     "metadata": {},
     "output_type": "execute_result"
    }
   ],
   "source": [
    "param_test5 = {'subsample': [0.6,0.7,0.75,0.8,0.85,0.9,1.0]} \n",
    "\n",
    "gsearch5 = GridSearchCV(estimator = GradientBoostingClassifier(learning_rate = 0.1,\n",
    "                                                               n_estimators = 50,          #Fixed\n",
    "                                                               min_samples_split=1000,     #Fixed\n",
    "                                                               min_samples_leaf=60,        #Fixed\n",
    "                                                               max_depth=7,\n",
    "                                                               max_features =7,\n",
    "                                                               subsample = 0.8),\n",
    "                        param_grid = param_test5, scoring ='roc_auc',n_jobs=4, cv=5)\n",
    "\n",
    "gsearch5.fit(train[predictors],train[target])"
   ]
  },
  {
   "cell_type": "code",
   "execution_count": 38,
   "metadata": {},
   "outputs": [
    {
     "name": "stdout",
     "output_type": "stream",
     "text": [
      "{'subsample': 0.9} 0.8379583039766366\n"
     ]
    }
   ],
   "source": [
    "print(gsearch5.best_params_, gsearch5.best_score_)"
   ]
  },
  {
   "cell_type": "code",
   "execution_count": 39,
   "metadata": {},
   "outputs": [
    {
     "name": "stdout",
     "output_type": "stream",
     "text": [
      "\n",
      "Model Report\n",
      "Accuracy : 0.9854\n",
      "AUC Score (Train): 0.885197\n",
      "CV score : Mean - 0.8389082 | Std - 0.01117777 | Min - 0.8215689 | Max - 0.8509972\n"
     ]
    },
    {
     "data": {
      "image/png": "[encoded data removed]",
      "text/plain": [
       "<Figure size 864x576 with 1 Axes>"
      ]
     },
     "metadata": {
      "needs_background": "light"
     },
     "output_type": "display_data"
    }
   ],
   "source": [
    "gbm_tuned_1 = GradientBoostingClassifier(learning_rate = 0.05,\n",
    "                                         n_estimators = 120,          \n",
    "                                         min_samples_split=1000,    \n",
    "                                         min_samples_leaf=60,        \n",
    "                                         max_depth=7,\n",
    "                                         max_features =7,\n",
    "                                         subsample = 0.9)\n",
    "\n",
    "modelfit(gbm_tuned_1, train, predictors)"
   ]
  },
  {
   "cell_type": "code",
   "execution_count": null,
   "metadata": {},
   "outputs": [],
   "source": []
  },
  {
   "cell_type": "code",
   "execution_count": 40,
   "metadata": {},
   "outputs": [
    {
     "name": "stdout",
     "output_type": "stream",
     "text": [
      "\n",
      "Model Report\n",
      "Accuracy : 0.9854\n",
      "AUC Score (Train): 0.886534\n",
      "CV score : Mean - 0.8396387 | Std - 0.0104147 | Min - 0.8245987 | Max - 0.8520284\n"
     ]
    },
    {
     "data": {
      "image/png": "[encoded data removed]",
      "text/plain": [
       "<Figure size 864x576 with 1 Axes>"
      ]
     },
     "metadata": {
      "needs_background": "light"
     },
     "output_type": "display_data"
    }
   ],
   "source": [
    "gbm_tuned_2 = GradientBoostingClassifier(learning_rate = 0.01,\n",
    "                                         n_estimators = 600,          \n",
    "                                         min_samples_split=1000,    \n",
    "                                         min_samples_leaf=60,        \n",
    "                                         max_depth=7,\n",
    "                                         max_features =7,\n",
    "                                         subsample = 0.9)\n",
    "\n",
    "modelfit(gbm_tuned_2, train, predictors)"
   ]
  },
  {
   "cell_type": "code",
   "execution_count": null,
   "metadata": {},
   "outputs": [],
   "source": []
  },
  {
   "cell_type": "code",
   "execution_count": 41,
   "metadata": {},
   "outputs": [
    {
     "name": "stdout",
     "output_type": "stream",
     "text": [
      "\n",
      "Model Report\n",
      "Accuracy : 0.9854\n",
      "AUC Score (Train): 0.885412\n",
      "CV score : Mean - 0.8404275 | Std - 0.01023095 | Min - 0.8258531 | Max - 0.8522176\n"
     ]
    },
    {
     "data": {
      "image/png": "[encoded data removed]",
      "text/plain": [
       "<Figure size 864x576 with 1 Axes>"
      ]
     },
     "metadata": {
      "needs_background": "light"
     },
     "output_type": "display_data"
    }
   ],
   "source": [
    "gbm_tuned_3 = GradientBoostingClassifier(learning_rate = 0.005,\n",
    "                                         n_estimators = 1200,          \n",
    "                                         min_samples_split=1000,    \n",
    "                                         min_samples_leaf=60,        \n",
    "                                         max_depth=7,\n",
    "                                         max_features =7,\n",
    "                                         subsample = 0.9)\n",
    "\n",
    "modelfit(gbm_tuned_3, train, predictors)"
   ]
  },
  {
   "cell_type": "code",
   "execution_count": null,
   "metadata": {},
   "outputs": [],
   "source": []
  },
  {
   "cell_type": "code",
   "execution_count": null,
   "metadata": {},
   "outputs": [],
   "source": [
    "gbm_tuned_4 = GradientBoostingClassifier(learning_rate = 0.005,\n",
    "                                         n_estimators = 1500,          \n",
    "                                         min_samples_split=1000,    \n",
    "                                         min_samples_leaf=60,        \n",
    "                                         max_depth=7,\n",
    "                                         max_features =7,\n",
    "                                         subsample = 0.9)\n",
    "\n",
    "modelfit(gbm_tuned_4, train, predictors)"
   ]
  },
  {
   "cell_type": "code",
   "execution_count": null,
   "metadata": {},
   "outputs": [],
   "source": []
  }
 ],
 "metadata": {
  "kernelspec": {
   "display_name": "Python 3",
   "language": "python",
   "name": "python3"
  },
  "language_info": {
   "codemirror_mode": {
    "name": "ipython",
    "version": 3
   },
   "file_extension": ".py",
   "mimetype": "text/x-python",
   "name": "python",
   "nbconvert_exporter": "python",
   "pygments_lexer": "ipython3",
   "version": "3.8.5"
  }
 },
 "nbformat": 4,
 "nbformat_minor": 4
}
